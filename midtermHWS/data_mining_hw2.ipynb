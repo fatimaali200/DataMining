{
  "nbformat": 4,
  "nbformat_minor": 0,
  "metadata": {
    "colab": {
      "name": "data_mining_hw2.ipynb",
      "provenance": [],
      "collapsed_sections": []
    },
    "kernelspec": {
      "display_name": "Python 3",
      "language": "python",
      "name": "python3"
    },
    "language_info": {
      "codemirror_mode": {
        "name": "ipython",
        "version": 3
      },
      "file_extension": ".py",
      "mimetype": "text/x-python",
      "name": "python",
      "nbconvert_exporter": "python",
      "pygments_lexer": "ipython3",
      "version": "3.8.8"
    }
  },
  "cells": [
    {
      "cell_type": "markdown",
      "metadata": {
        "id": "Css_ge5PlFJ7"
      },
      "source": [
        "# BIL 366 Data Mining: Homework-2\n",
        "### Bilinmesi gerekenler\n",
        "distance measures, preprocessing (aggregation, cleaning, sampling),\n",
        "pandas,numpy, matplotlib.pyplot\n",
        "### Öğrenme Hedefleri \n",
        "Pandas kullanılarak distance measureler kullanılarak data benzerliğinin ölçülmesi ve outlier detection, sampling ile sample size'ın küçültülmesi ve ne kadar sample size'ın datayı ne kadar temsil ettiğinin gözlemlenmesi.\n"
      ]
    },
    {
      "cell_type": "markdown",
      "metadata": {
        "id": "v3WVgzEolzJU"
      },
      "source": [
        "### Giriş\n",
        "Covid süresince Türkiye location datasından Google'in elde etmiş olduğu mobility datası https://www.google.com/covid19/mobility/ sitesi üzerinden yayınlanmıştır.\n",
        "Bu ödevde sizden bu datayla ilgili önanaliz yapıp raporlamanız istenmektedir. Datayı indirme ve yüklemede bir bütünlük olması açısından bu datayı drive üzerinden erişime açtım, aşağıdaki şekilde erişebilirsiniz.\n",
        "\n"
      ]
    },
    {
      "cell_type": "code",
      "metadata": {
        "id": "Xw0qdSS3lBhB",
        "colab": {
          "base_uri": "https://localhost:8080/"
        },
        "outputId": "d80c19f3-8b65-48b2-a850-33fb5d6f4916"
      },
      "source": [
        "import pandas as pd\n",
        "from scipy.spatial import distance\n",
        "\n",
        "#https://www.google.com/covid19/mobility/\n",
        "url = 'https://drive.google.com/file/d/18gyHbx6rfogq3yQ-GR9COjcGgyYlCnBZ/view?usp=sharing'\n",
        "url2020 = 'https://drive.google.com/uc?id=' + url.split('/')[-2]\n",
        "url = 'https://drive.google.com/file/d/1Eg8Lffm49bc-bGFkv_4ddrQw8U8WE6P4/view?usp=sharing'\n",
        "url2021 = 'https://drive.google.com/uc?id=' + url.split('/')[-2]\n",
        "\n",
        "df20 = pd.read_csv(url2020)\n",
        "df20.info()\n",
        "\n",
        "df21 = pd.read_csv(url2021)\n",
        "df21.info()\n"
      ],
      "execution_count": 15,
      "outputs": [
        {
          "output_type": "stream",
          "name": "stdout",
          "text": [
            "<class 'pandas.core.frame.DataFrame'>\n",
            "RangeIndex: 167657 entries, 0 to 167656\n",
            "Data columns (total 15 columns):\n",
            " #   Column                                              Non-Null Count   Dtype  \n",
            "---  ------                                              --------------   -----  \n",
            " 0   country_region_code                                 167657 non-null  object \n",
            " 1   country_region                                      167657 non-null  object \n",
            " 2   sub_region_1                                        167336 non-null  object \n",
            " 3   sub_region_2                                        141692 non-null  object \n",
            " 4   metro_area                                          0 non-null       float64\n",
            " 5   iso_3166_2_code                                     25644 non-null   object \n",
            " 6   census_fips_code                                    0 non-null       float64\n",
            " 7   place_id                                            167657 non-null  object \n",
            " 8   date                                                167657 non-null  object \n",
            " 9   retail_and_recreation_percent_change_from_baseline  101865 non-null  float64\n",
            " 10  grocery_and_pharmacy_percent_change_from_baseline   106104 non-null  float64\n",
            " 11  parks_percent_change_from_baseline                  95186 non-null   float64\n",
            " 12  transit_stations_percent_change_from_baseline       87723 non-null   float64\n",
            " 13  workplaces_percent_change_from_baseline             158870 non-null  float64\n",
            " 14  residential_percent_change_from_baseline            98651 non-null   float64\n",
            "dtypes: float64(8), object(7)\n",
            "memory usage: 19.2+ MB\n",
            "<class 'pandas.core.frame.DataFrame'>\n",
            "RangeIndex: 158430 entries, 0 to 158429\n",
            "Data columns (total 15 columns):\n",
            " #   Column                                              Non-Null Count   Dtype  \n",
            "---  ------                                              --------------   -----  \n",
            " 0   country_region_code                                 158430 non-null  object \n",
            " 1   country_region                                      158430 non-null  object \n",
            " 2   sub_region_1                                        158152 non-null  object \n",
            " 3   sub_region_2                                        135654 non-null  object \n",
            " 4   metro_area                                          0 non-null       float64\n",
            " 5   iso_3166_2_code                                     22498 non-null   object \n",
            " 6   census_fips_code                                    0 non-null       float64\n",
            " 7   place_id                                            158430 non-null  object \n",
            " 8   date                                                158430 non-null  object \n",
            " 9   retail_and_recreation_percent_change_from_baseline  91170 non-null   float64\n",
            " 10  grocery_and_pharmacy_percent_change_from_baseline   92489 non-null   float64\n",
            " 11  parks_percent_change_from_baseline                  87099 non-null   float64\n",
            " 12  transit_stations_percent_change_from_baseline       78809 non-null   float64\n",
            " 13  workplaces_percent_change_from_baseline             154672 non-null  float64\n",
            " 14  residential_percent_change_from_baseline            98407 non-null   float64\n",
            "dtypes: float64(8), object(7)\n",
            "memory usage: 18.1+ MB\n"
          ]
        }
      ]
    },
    {
      "cell_type": "markdown",
      "metadata": {
        "id": "nrTqTiGnUWob"
      },
      "source": [
        "### Yapılacaklar\n",
        "1. Yukarıdaki data framede içerisinde data olmayan (tüm sütun null), sütunları çıkarınız. \n",
        "2. Mahalanobis distance distributiondan uzaklığı ölçtüğü için outlier belirlenmesinde kullanılabilir.2020 ve 2021 her iki datayıda aylara göre gruplandırdıktan(mean kullanabilirsiniz) sonra (aggregation) her bir satır ile data (tüm sütun) arasındaki Mahalanobis distance'ı hesaplayarak yeni bir sütun olarak ekleyiniz ve buradaki en büyük elemanın outlier olduğunu 2020 ve 2021 yılları için ayrı ayrı gösteriniz. \n"
      ]
    },
    {
      "cell_type": "code",
      "metadata": {
        "id": "ZGzdOBh3DG_R"
      },
      "source": [
        "             ############### 1.soru ###################\n",
        "data20 = pd.DataFrame()\n",
        "from pandas.api.types import is_numeric_dtype\n",
        "for col in df20.columns:\n",
        "    if is_numeric_dtype(df20[col]):\n",
        "        if df20[col].count() != 0:\n",
        "          data20[col] = df20[col]\n",
        "data20 = data20.dropna()\n",
        "\n",
        "data21 = pd.DataFrame()\n",
        "from pandas.api.types import is_numeric_dtype\n",
        "for col in df21.columns:\n",
        "    if is_numeric_dtype(df21[col]):\n",
        "        if df21[col].count() != 0:\n",
        "          data21[col] = df21[col]\n",
        "data21 = data21.dropna()\n"
      ],
      "execution_count": 16,
      "outputs": []
    },
    {
      "cell_type": "code",
      "metadata": {
        "colab": {
          "base_uri": "https://localhost:8080/",
          "height": 224
        },
        "id": "k3N9cWhkDPXB",
        "outputId": "5d76f537-f28b-4a91-e743-364e431f0ac9"
      },
      "source": [
        "data20.head()"
      ],
      "execution_count": 17,
      "outputs": [
        {
          "output_type": "execute_result",
          "data": {
            "text/html": [
              "<div>\n",
              "<style scoped>\n",
              "    .dataframe tbody tr th:only-of-type {\n",
              "        vertical-align: middle;\n",
              "    }\n",
              "\n",
              "    .dataframe tbody tr th {\n",
              "        vertical-align: top;\n",
              "    }\n",
              "\n",
              "    .dataframe thead th {\n",
              "        text-align: right;\n",
              "    }\n",
              "</style>\n",
              "<table border=\"1\" class=\"dataframe\">\n",
              "  <thead>\n",
              "    <tr style=\"text-align: right;\">\n",
              "      <th></th>\n",
              "      <th>retail_and_recreation_percent_change_from_baseline</th>\n",
              "      <th>grocery_and_pharmacy_percent_change_from_baseline</th>\n",
              "      <th>parks_percent_change_from_baseline</th>\n",
              "      <th>transit_stations_percent_change_from_baseline</th>\n",
              "      <th>workplaces_percent_change_from_baseline</th>\n",
              "      <th>residential_percent_change_from_baseline</th>\n",
              "    </tr>\n",
              "  </thead>\n",
              "  <tbody>\n",
              "    <tr>\n",
              "      <th>0</th>\n",
              "      <td>2.0</td>\n",
              "      <td>3.0</td>\n",
              "      <td>-11.0</td>\n",
              "      <td>-4.0</td>\n",
              "      <td>7.0</td>\n",
              "      <td>1.0</td>\n",
              "    </tr>\n",
              "    <tr>\n",
              "      <th>1</th>\n",
              "      <td>7.0</td>\n",
              "      <td>6.0</td>\n",
              "      <td>14.0</td>\n",
              "      <td>2.0</td>\n",
              "      <td>5.0</td>\n",
              "      <td>0.0</td>\n",
              "    </tr>\n",
              "    <tr>\n",
              "      <th>2</th>\n",
              "      <td>6.0</td>\n",
              "      <td>5.0</td>\n",
              "      <td>10.0</td>\n",
              "      <td>5.0</td>\n",
              "      <td>8.0</td>\n",
              "      <td>-2.0</td>\n",
              "    </tr>\n",
              "    <tr>\n",
              "      <th>3</th>\n",
              "      <td>4.0</td>\n",
              "      <td>6.0</td>\n",
              "      <td>11.0</td>\n",
              "      <td>4.0</td>\n",
              "      <td>8.0</td>\n",
              "      <td>-2.0</td>\n",
              "    </tr>\n",
              "    <tr>\n",
              "      <th>4</th>\n",
              "      <td>0.0</td>\n",
              "      <td>3.0</td>\n",
              "      <td>6.0</td>\n",
              "      <td>0.0</td>\n",
              "      <td>9.0</td>\n",
              "      <td>-2.0</td>\n",
              "    </tr>\n",
              "  </tbody>\n",
              "</table>\n",
              "</div>"
            ],
            "text/plain": [
              "   retail_and_recreation_percent_change_from_baseline  ...  residential_percent_change_from_baseline\n",
              "0                                                2.0   ...                                       1.0\n",
              "1                                                7.0   ...                                       0.0\n",
              "2                                                6.0   ...                                      -2.0\n",
              "3                                                4.0   ...                                      -2.0\n",
              "4                                                0.0   ...                                      -2.0\n",
              "\n",
              "[5 rows x 6 columns]"
            ]
          },
          "metadata": {},
          "execution_count": 17
        }
      ]
    },
    {
      "cell_type": "code",
      "metadata": {
        "colab": {
          "base_uri": "https://localhost:8080/",
          "height": 224
        },
        "id": "yisPjOhaDUOC",
        "outputId": "5005abac-faa1-48d2-95f1-061580c862ec"
      },
      "source": [
        "data21.head()"
      ],
      "execution_count": 18,
      "outputs": [
        {
          "output_type": "execute_result",
          "data": {
            "text/html": [
              "<div>\n",
              "<style scoped>\n",
              "    .dataframe tbody tr th:only-of-type {\n",
              "        vertical-align: middle;\n",
              "    }\n",
              "\n",
              "    .dataframe tbody tr th {\n",
              "        vertical-align: top;\n",
              "    }\n",
              "\n",
              "    .dataframe thead th {\n",
              "        text-align: right;\n",
              "    }\n",
              "</style>\n",
              "<table border=\"1\" class=\"dataframe\">\n",
              "  <thead>\n",
              "    <tr style=\"text-align: right;\">\n",
              "      <th></th>\n",
              "      <th>retail_and_recreation_percent_change_from_baseline</th>\n",
              "      <th>grocery_and_pharmacy_percent_change_from_baseline</th>\n",
              "      <th>parks_percent_change_from_baseline</th>\n",
              "      <th>transit_stations_percent_change_from_baseline</th>\n",
              "      <th>workplaces_percent_change_from_baseline</th>\n",
              "      <th>residential_percent_change_from_baseline</th>\n",
              "    </tr>\n",
              "  </thead>\n",
              "  <tbody>\n",
              "    <tr>\n",
              "      <th>0</th>\n",
              "      <td>-88.0</td>\n",
              "      <td>-64.0</td>\n",
              "      <td>-71.0</td>\n",
              "      <td>-81.0</td>\n",
              "      <td>-81.0</td>\n",
              "      <td>38.0</td>\n",
              "    </tr>\n",
              "    <tr>\n",
              "      <th>1</th>\n",
              "      <td>-86.0</td>\n",
              "      <td>-57.0</td>\n",
              "      <td>-71.0</td>\n",
              "      <td>-77.0</td>\n",
              "      <td>-64.0</td>\n",
              "      <td>29.0</td>\n",
              "    </tr>\n",
              "    <tr>\n",
              "      <th>2</th>\n",
              "      <td>-85.0</td>\n",
              "      <td>-57.0</td>\n",
              "      <td>-66.0</td>\n",
              "      <td>-74.0</td>\n",
              "      <td>-50.0</td>\n",
              "      <td>21.0</td>\n",
              "    </tr>\n",
              "    <tr>\n",
              "      <th>3</th>\n",
              "      <td>-33.0</td>\n",
              "      <td>18.0</td>\n",
              "      <td>4.0</td>\n",
              "      <td>-17.0</td>\n",
              "      <td>-20.0</td>\n",
              "      <td>7.0</td>\n",
              "    </tr>\n",
              "    <tr>\n",
              "      <th>4</th>\n",
              "      <td>-38.0</td>\n",
              "      <td>12.0</td>\n",
              "      <td>-8.0</td>\n",
              "      <td>-21.0</td>\n",
              "      <td>-22.0</td>\n",
              "      <td>10.0</td>\n",
              "    </tr>\n",
              "  </tbody>\n",
              "</table>\n",
              "</div>"
            ],
            "text/plain": [
              "   retail_and_recreation_percent_change_from_baseline  ...  residential_percent_change_from_baseline\n",
              "0                                              -88.0   ...                                      38.0\n",
              "1                                              -86.0   ...                                      29.0\n",
              "2                                              -85.0   ...                                      21.0\n",
              "3                                              -33.0   ...                                       7.0\n",
              "4                                              -38.0   ...                                      10.0\n",
              "\n",
              "[5 rows x 6 columns]"
            ]
          },
          "metadata": {},
          "execution_count": 18
        }
      ]
    },
    {
      "cell_type": "code",
      "metadata": {
        "id": "HZJXbKx90Y8y"
      },
      "source": [
        "#Distance ölçümü için \n",
        "#covariance matrisini numpy.cov() fonksiyonu, \n",
        "#inverse (tersini) numpy.linalg.inv() fonksiyonu \n",
        "#ve aşağıdaki scipy fonksiyonunu kullanabilirsiniz: \n",
        "#https://docs.scipy.org/doc/scipy/reference/spatial.distance.html \n",
        "import numpy as np #np.cov(), np.linalg.inv()\n",
        "from scipy.spatial import distance\n"
      ],
      "execution_count": null,
      "outputs": []
    },
    {
      "cell_type": "code",
      "metadata": {
        "colab": {
          "base_uri": "https://localhost:8080/",
          "height": 340
        },
        "id": "8nRdfJkbDaKq",
        "outputId": "7039a5aa-231d-4c9d-8948-96b4de0f9056"
      },
      "source": [
        "                ######### 2.soru 2020 için ########\n",
        "                ## outlier = 8.602830 nisan ayında\n",
        "import pandas as pd\n",
        "import numpy as np\n",
        "import scipy as sp\n",
        "\n",
        "df20.index = pd.to_datetime(df20['date'],format='%Y-%m-%d')\n",
        "result=df20.groupby(df20.index.month).mean()\n",
        "data20 = pd.DataFrame()\n",
        "from pandas.api.types import is_numeric_dtype\n",
        "for col in result.columns:\n",
        "    if result[col].count() != 0:\n",
        "      if is_numeric_dtype(result[col]):\n",
        "        data20[col] = result[col]\n",
        "data20 = data20.dropna()\n",
        "\n",
        "def mahalanobis(x=None, data=None, cov=None):\n",
        "  \n",
        "    x_minus_mu = x - np.mean(data)\n",
        "    if not cov:\n",
        "        cov = np.cov(data.values.T)\n",
        "    inv_covmat = sp.linalg.inv(cov)\n",
        "    left_term = np.dot(x_minus_mu, inv_covmat)\n",
        "    mahal = np.dot(left_term, x_minus_mu.T)\n",
        "    return mahal.diagonal()\n",
        "\n",
        "df_x = data20.head(500)\n",
        "df_x['mahala'] = mahalanobis(x=data20, data=df_x)\n",
        "df_x.head()\n"
      ],
      "execution_count": 19,
      "outputs": [
        {
          "output_type": "stream",
          "name": "stderr",
          "text": [
            "/usr/local/lib/python3.7/dist-packages/ipykernel_launcher.py:27: SettingWithCopyWarning: \n",
            "A value is trying to be set on a copy of a slice from a DataFrame.\n",
            "Try using .loc[row_indexer,col_indexer] = value instead\n",
            "\n",
            "See the caveats in the documentation: https://pandas.pydata.org/pandas-docs/stable/user_guide/indexing.html#returning-a-view-versus-a-copy\n"
          ]
        },
        {
          "output_type": "execute_result",
          "data": {
            "text/html": [
              "<div>\n",
              "<style scoped>\n",
              "    .dataframe tbody tr th:only-of-type {\n",
              "        vertical-align: middle;\n",
              "    }\n",
              "\n",
              "    .dataframe tbody tr th {\n",
              "        vertical-align: top;\n",
              "    }\n",
              "\n",
              "    .dataframe thead th {\n",
              "        text-align: right;\n",
              "    }\n",
              "</style>\n",
              "<table border=\"1\" class=\"dataframe\">\n",
              "  <thead>\n",
              "    <tr style=\"text-align: right;\">\n",
              "      <th></th>\n",
              "      <th>retail_and_recreation_percent_change_from_baseline</th>\n",
              "      <th>grocery_and_pharmacy_percent_change_from_baseline</th>\n",
              "      <th>parks_percent_change_from_baseline</th>\n",
              "      <th>transit_stations_percent_change_from_baseline</th>\n",
              "      <th>workplaces_percent_change_from_baseline</th>\n",
              "      <th>residential_percent_change_from_baseline</th>\n",
              "      <th>mahala</th>\n",
              "    </tr>\n",
              "    <tr>\n",
              "      <th>date</th>\n",
              "      <th></th>\n",
              "      <th></th>\n",
              "      <th></th>\n",
              "      <th></th>\n",
              "      <th></th>\n",
              "      <th></th>\n",
              "      <th></th>\n",
              "    </tr>\n",
              "  </thead>\n",
              "  <tbody>\n",
              "    <tr>\n",
              "      <th>2</th>\n",
              "      <td>2.028130</td>\n",
              "      <td>3.238759</td>\n",
              "      <td>4.509374</td>\n",
              "      <td>-6.643751</td>\n",
              "      <td>9.353484</td>\n",
              "      <td>-0.698443</td>\n",
              "      <td>6.799677</td>\n",
              "    </tr>\n",
              "    <tr>\n",
              "      <th>3</th>\n",
              "      <td>-21.700010</td>\n",
              "      <td>-4.395083</td>\n",
              "      <td>-6.153226</td>\n",
              "      <td>-22.896115</td>\n",
              "      <td>-12.652553</td>\n",
              "      <td>6.332819</td>\n",
              "      <td>2.515010</td>\n",
              "    </tr>\n",
              "    <tr>\n",
              "      <th>4</th>\n",
              "      <td>-63.148836</td>\n",
              "      <td>-26.497847</td>\n",
              "      <td>-42.117354</td>\n",
              "      <td>-64.418867</td>\n",
              "      <td>-47.539997</td>\n",
              "      <td>20.742720</td>\n",
              "      <td>8.602830</td>\n",
              "    </tr>\n",
              "    <tr>\n",
              "      <th>5</th>\n",
              "      <td>-55.673896</td>\n",
              "      <td>-15.239506</td>\n",
              "      <td>-28.837900</td>\n",
              "      <td>-58.020520</td>\n",
              "      <td>-41.539711</td>\n",
              "      <td>17.455508</td>\n",
              "      <td>8.229767</td>\n",
              "    </tr>\n",
              "    <tr>\n",
              "      <th>6</th>\n",
              "      <td>-18.156210</td>\n",
              "      <td>12.410230</td>\n",
              "      <td>32.502002</td>\n",
              "      <td>-17.117761</td>\n",
              "      <td>-10.425022</td>\n",
              "      <td>4.339668</td>\n",
              "      <td>7.663963</td>\n",
              "    </tr>\n",
              "  </tbody>\n",
              "</table>\n",
              "</div>"
            ],
            "text/plain": [
              "      retail_and_recreation_percent_change_from_baseline  ...    mahala\n",
              "date                                                      ...          \n",
              "2                                              2.028130   ...  6.799677\n",
              "3                                            -21.700010   ...  2.515010\n",
              "4                                            -63.148836   ...  8.602830\n",
              "5                                            -55.673896   ...  8.229767\n",
              "6                                            -18.156210   ...  7.663963\n",
              "\n",
              "[5 rows x 7 columns]"
            ]
          },
          "metadata": {},
          "execution_count": 19
        }
      ]
    },
    {
      "cell_type": "code",
      "metadata": {
        "colab": {
          "base_uri": "https://localhost:8080/",
          "height": 340
        },
        "id": "YX-3Cz5FDocx",
        "outputId": "3419c714-3b6f-4286-979a-c5451e54e093"
      },
      "source": [
        "                ######### 2.soru 2021 için ########\n",
        "                ## outlier = 6.946990 nisan ayında\n",
        "df21.index = pd.to_datetime(df21['date'],format='%Y-%m-%d')\n",
        "result=df21.groupby(df21.index.month).mean()\n",
        "data21 = pd.DataFrame()\n",
        "from pandas.api.types import is_numeric_dtype\n",
        "for col in result.columns:\n",
        "    if result[col].count() != 0:\n",
        "      if is_numeric_dtype(result[col]):\n",
        "        data21[col] = result[col]\n",
        "data21 = data21.dropna()\n",
        "\n",
        "def mahalanobis(x=None, data=None, cov=None):\n",
        "    \n",
        "    x_minus_mu = x - np.mean(data)\n",
        "    if not cov:\n",
        "        cov = np.cov(data.values.T)\n",
        "    inv_covmat = sp.linalg.inv(cov)\n",
        "    left_term = np.dot(x_minus_mu, inv_covmat)\n",
        "    mahal = np.dot(left_term, x_minus_mu.T)\n",
        "    return mahal.diagonal()\n",
        "\n",
        "df_x = data21.head(500)\n",
        "df_x['mahala'] = mahalanobis(x=data21, data=df_x)\n",
        "df_x.head()\n"
      ],
      "execution_count": 20,
      "outputs": [
        {
          "output_type": "stream",
          "name": "stderr",
          "text": [
            "/usr/local/lib/python3.7/dist-packages/ipykernel_launcher.py:27: SettingWithCopyWarning: \n",
            "A value is trying to be set on a copy of a slice from a DataFrame.\n",
            "Try using .loc[row_indexer,col_indexer] = value instead\n",
            "\n",
            "See the caveats in the documentation: https://pandas.pydata.org/pandas-docs/stable/user_guide/indexing.html#returning-a-view-versus-a-copy\n"
          ]
        },
        {
          "output_type": "execute_result",
          "data": {
            "text/html": [
              "<div>\n",
              "<style scoped>\n",
              "    .dataframe tbody tr th:only-of-type {\n",
              "        vertical-align: middle;\n",
              "    }\n",
              "\n",
              "    .dataframe tbody tr th {\n",
              "        vertical-align: top;\n",
              "    }\n",
              "\n",
              "    .dataframe thead th {\n",
              "        text-align: right;\n",
              "    }\n",
              "</style>\n",
              "<table border=\"1\" class=\"dataframe\">\n",
              "  <thead>\n",
              "    <tr style=\"text-align: right;\">\n",
              "      <th></th>\n",
              "      <th>retail_and_recreation_percent_change_from_baseline</th>\n",
              "      <th>grocery_and_pharmacy_percent_change_from_baseline</th>\n",
              "      <th>parks_percent_change_from_baseline</th>\n",
              "      <th>transit_stations_percent_change_from_baseline</th>\n",
              "      <th>workplaces_percent_change_from_baseline</th>\n",
              "      <th>residential_percent_change_from_baseline</th>\n",
              "      <th>mahala</th>\n",
              "    </tr>\n",
              "    <tr>\n",
              "      <th>date</th>\n",
              "      <th></th>\n",
              "      <th></th>\n",
              "      <th></th>\n",
              "      <th></th>\n",
              "      <th></th>\n",
              "      <th></th>\n",
              "      <th></th>\n",
              "    </tr>\n",
              "  </thead>\n",
              "  <tbody>\n",
              "    <tr>\n",
              "      <th>1</th>\n",
              "      <td>-50.178609</td>\n",
              "      <td>-4.892954</td>\n",
              "      <td>-34.120820</td>\n",
              "      <td>-40.967841</td>\n",
              "      <td>-31.960336</td>\n",
              "      <td>13.586489</td>\n",
              "      <td>6.529720</td>\n",
              "    </tr>\n",
              "    <tr>\n",
              "      <th>2</th>\n",
              "      <td>-41.179696</td>\n",
              "      <td>10.830794</td>\n",
              "      <td>-22.787913</td>\n",
              "      <td>-31.025378</td>\n",
              "      <td>-25.911408</td>\n",
              "      <td>9.778199</td>\n",
              "      <td>5.917862</td>\n",
              "    </tr>\n",
              "    <tr>\n",
              "      <th>3</th>\n",
              "      <td>-24.850222</td>\n",
              "      <td>24.720614</td>\n",
              "      <td>-8.019031</td>\n",
              "      <td>-20.468370</td>\n",
              "      <td>-13.891509</td>\n",
              "      <td>6.377278</td>\n",
              "      <td>2.885326</td>\n",
              "    </tr>\n",
              "    <tr>\n",
              "      <th>4</th>\n",
              "      <td>-35.502006</td>\n",
              "      <td>21.478576</td>\n",
              "      <td>-13.863790</td>\n",
              "      <td>-27.611852</td>\n",
              "      <td>-23.792819</td>\n",
              "      <td>11.048254</td>\n",
              "      <td>6.946990</td>\n",
              "    </tr>\n",
              "    <tr>\n",
              "      <th>5</th>\n",
              "      <td>-41.302671</td>\n",
              "      <td>13.629981</td>\n",
              "      <td>-11.967062</td>\n",
              "      <td>-31.783479</td>\n",
              "      <td>-33.632010</td>\n",
              "      <td>12.395152</td>\n",
              "      <td>6.527793</td>\n",
              "    </tr>\n",
              "  </tbody>\n",
              "</table>\n",
              "</div>"
            ],
            "text/plain": [
              "      retail_and_recreation_percent_change_from_baseline  ...    mahala\n",
              "date                                                      ...          \n",
              "1                                            -50.178609   ...  6.529720\n",
              "2                                            -41.179696   ...  5.917862\n",
              "3                                            -24.850222   ...  2.885326\n",
              "4                                            -35.502006   ...  6.946990\n",
              "5                                            -41.302671   ...  6.527793\n",
              "\n",
              "[5 rows x 7 columns]"
            ]
          },
          "metadata": {},
          "execution_count": 20
        }
      ]
    },
    {
      "cell_type": "markdown",
      "metadata": {
        "id": "AF-b_9sn0Y8z"
      },
      "source": [
        "\n",
        "3. 2020 ve 2021 datalarını aylara göre grupladıktan sonra (mean değerleri ile) en az iki adet fark/benzerlik ölçümü (**slaylatlardaki similarity measures**) kullanarak 2020 ve 2021 datalarının 9-14 sütun verilerinin **aynı aylarda** birbirlerine ne oranda benzediğini bulunuz.\n",
        "4. 2020 datasından (50-1000) aralığında farklı büyüklüklerde samplelar oluşturarak aylık mean değerlerin ortalama ne kadar değiştiğini grafikle gösteriniz (x sample size, y ortalama değişim): **Açıklama**▶\n",
        "Tüm datanın aylık ortalama değerleri ile sample datanın aylık ortalama değerleri arasındaki farkların mutlak değerlerini toplayarak ortalamasını almanız gerekiyor. Bu şekilde her bir sample için bir hata datası elde etmiş oluyorsunuz. Sonra bunları x axisde sample size, y axisde hata olacak şekilde grafiklemeniz istenmektedir.\n",
        "5. 2020 datasından her aydan (50-1000) aralığında olacak şekilde samplelar oluşturarak aylık mean değerlerin ortalama ne kadar değiştiğini grafikle gösteriniz (x sample size, y ortalama değişim): **Açıklama**▶ Bu soruda her bir aydan eşit miktarda sampller alarak sample oluşturmanız (mesela 50 için her bir aydan 50şer satır alarak, aysayısı x 50 büyüklüğünde bir sample elde etmiş oluyorsunuz) ve 4.sorudaki gibi ortalama hatayı bularak yine sample size'a göre grafiklemeniz istenmektedir. "
      ]
    },
    {
      "cell_type": "code",
      "metadata": {
        "colab": {
          "base_uri": "https://localhost:8080/"
        },
        "id": "zLcPjzb_DvR4",
        "outputId": "04817a04-7b11-4db5-a703-3c108f62bb12"
      },
      "source": [
        "import pandas as pd\n",
        "import numpy as np\n",
        "\n",
        "df20.index = pd.to_datetime(df20['date'],format='%Y-%m-%d')\n",
        "result20=df20.groupby(df20.index.month).mean()\n",
        "\n",
        "df21.index = pd.to_datetime(df21['date'],format='%Y-%m-%d')\n",
        "result21=df21.groupby(df21.index.month).mean()\n",
        "\n",
        "data20 = pd.DataFrame()\n",
        "from pandas.api.types import is_numeric_dtype\n",
        "for col in result20.columns:\n",
        "      if is_numeric_dtype(result20[col]):\n",
        "        if result20[col].count() != 0:\n",
        "            data20[col] = result20[col]\n",
        "data20 = data20.dropna()\n",
        "\n",
        "data21 = pd.DataFrame()\n",
        "from pandas.api.types import is_numeric_dtype\n",
        "for col in result21.columns:\n",
        "      if is_numeric_dtype(result21[col]):\n",
        "        if result21[col].count() != 0:\n",
        "            data21[col] = result21[col]\n",
        "data21 = data21.dropna()\n",
        "\n",
        "  \n",
        "#Euclidean distance\n",
        "dist9 = np.sqrt(np.sum([(a-b)*(a-b) for a, b in zip(data20['residential_percent_change_from_baseline'], data21['residential_percent_change_from_baseline'])]))\n",
        "dist10 = np.sqrt(np.sum([(a-b)*(a-b) for a, b in zip(data20[ 'grocery_and_pharmacy_percent_change_from_baseline'], data21[ 'grocery_and_pharmacy_percent_change_from_baseline'])]))\n",
        "dist11 = np.sqrt(np.sum([(a-b)*(a-b) for a, b in zip(data20['parks_percent_change_from_baseline'], data21['parks_percent_change_from_baseline'])]))\n",
        "dist12 = np.sqrt(np.sum([(a-b)*(a-b) for a, b in zip(data20['retail_and_recreation_percent_change_from_baseline'], data21['retail_and_recreation_percent_change_from_baseline'])]))\n",
        "dist13 = np.sqrt(np.sum([(a-b)*(a-b) for a, b in zip(data20['transit_stations_percent_change_from_baseline'], data21['transit_stations_percent_change_from_baseline'])]))\n",
        "dist14 = np.sqrt(np.sum([(a-b)*(a-b) for a, b in zip(data20['workplaces_percent_change_from_baseline'], data21['workplaces_percent_change_from_baseline'])]))\n",
        "\n",
        "print(\"Euclidean distance between two series is:\", dist9)\n",
        "print(\"Euclidean distance between two series is:\", dist10)\n",
        "print(\"Euclidean distance between two series is:\", dist11)\n",
        "print(\"Euclidean distance between two series is:\", dist12)\n",
        "print(\"Euclidean distance between two series is:\", dist13)\n",
        "print(\"Euclidean distance between two series is:\", dist14)\n",
        "\n",
        "print(\"******************************************************\")\n",
        "\n",
        "#Manhattan distance\n",
        "dist9 = np.sum(abs(a-b) for a, b in zip(data20['residential_percent_change_from_baseline'], data21['residential_percent_change_from_baseline']))\n",
        "dist10 = np.sum(abs(a-b) for a, b in zip(data20[ 'grocery_and_pharmacy_percent_change_from_baseline'], data21[ 'grocery_and_pharmacy_percent_change_from_baseline']))\n",
        "dist11 = np.sum(abs(a-b) for a, b in zip(data20['parks_percent_change_from_baseline'], data21['parks_percent_change_from_baseline']))\n",
        "dist12 = np.sum(abs(a-b) for a, b in zip(data20['retail_and_recreation_percent_change_from_baseline'], data21['retail_and_recreation_percent_change_from_baseline']))\n",
        "dist13 = np.sum(abs(a-b) for a, b in zip(data20['transit_stations_percent_change_from_baseline'], data21['transit_stations_percent_change_from_baseline']))\n",
        "dist14 = np.sum(abs(a-b) for a, b in zip(data20['workplaces_percent_change_from_baseline'], data21['workplaces_percent_change_from_baseline']))\n",
        "\n",
        "print(\"Manhattan distance between two series is:\", dist9)\n",
        "print(\"Manhattan distance between two series is:\", dist10)\n",
        "print(\"Manhattan distance between two series is:\", dist11)\n",
        "print(\"Manhattan distance between two series is:\", dist12)\n",
        "print(\"Manhattan distance between two series is:\", dist13)\n",
        "print(\"Manhattan distance between two series is:\", dist14)\n",
        "\n"
      ],
      "execution_count": 21,
      "outputs": [
        {
          "output_type": "stream",
          "name": "stdout",
          "text": [
            "Euclidean distance between two series is: 25.89139712326378\n",
            "Euclidean distance between two series is: 122.33396511260209\n",
            "Euclidean distance between two series is: 98.25225759330797\n",
            "Euclidean distance between two series is: 111.45448345611396\n",
            "Euclidean distance between two series is: 108.14079597866156\n",
            "Euclidean distance between two series is: 64.91036330424903\n",
            "******************************************************\n",
            "Manhattan distance between two series is: 68.44310442385809\n",
            "Manhattan distance between two series is: 340.91900033383564\n",
            "Manhattan distance between two series is: 291.07360320781424\n",
            "Manhattan distance between two series is: 326.01423105117965\n",
            "Manhattan distance between two series is: 311.2593149741907\n",
            "Manhattan distance between two series is: 157.64761158035571\n"
          ]
        },
        {
          "output_type": "stream",
          "name": "stderr",
          "text": [
            "/usr/local/lib/python3.7/dist-packages/ipykernel_launcher.py:45: DeprecationWarning: Calling np.sum(generator) is deprecated, and in the future will give a different result. Use np.sum(np.fromiter(generator)) or the python sum builtin instead.\n",
            "/usr/local/lib/python3.7/dist-packages/ipykernel_launcher.py:46: DeprecationWarning: Calling np.sum(generator) is deprecated, and in the future will give a different result. Use np.sum(np.fromiter(generator)) or the python sum builtin instead.\n",
            "/usr/local/lib/python3.7/dist-packages/ipykernel_launcher.py:47: DeprecationWarning: Calling np.sum(generator) is deprecated, and in the future will give a different result. Use np.sum(np.fromiter(generator)) or the python sum builtin instead.\n",
            "/usr/local/lib/python3.7/dist-packages/ipykernel_launcher.py:48: DeprecationWarning: Calling np.sum(generator) is deprecated, and in the future will give a different result. Use np.sum(np.fromiter(generator)) or the python sum builtin instead.\n",
            "/usr/local/lib/python3.7/dist-packages/ipykernel_launcher.py:49: DeprecationWarning: Calling np.sum(generator) is deprecated, and in the future will give a different result. Use np.sum(np.fromiter(generator)) or the python sum builtin instead.\n",
            "/usr/local/lib/python3.7/dist-packages/ipykernel_launcher.py:50: DeprecationWarning: Calling np.sum(generator) is deprecated, and in the future will give a different result. Use np.sum(np.fromiter(generator)) or the python sum builtin instead.\n"
          ]
        }
      ]
    },
    {
      "cell_type": "code",
      "metadata": {
        "colab": {
          "base_uri": "https://localhost:8080/",
          "height": 282
        },
        "id": "nEBeiB3zD5s4",
        "outputId": "e2662087-6b60-4d99-aea9-fe759ac419ed"
      },
      "source": [
        "                       ############ 4.soru ############\n",
        "df20.index = pd.to_datetime(df20['date'],format='%Y-%m-%d')\n",
        "result=df20.groupby(df20.index.month).mean()\n",
        "data20 = pd.DataFrame()\n",
        "from pandas.api.types import is_numeric_dtype\n",
        "for col in result.columns:\n",
        "    if result[col].count() != 0:\n",
        "      if is_numeric_dtype(result[col]):\n",
        "        data20[col] = result[col]\n",
        "data20 = data20.dropna()\n",
        "\n",
        "sample = df20.sample(n=50, replace=True)\n",
        "sample.index = pd.to_datetime(sample['date'],format='%Y-%m-%d')\n",
        "result1=sample.groupby(sample.index.month).mean()\n",
        "df1 = pd.DataFrame()\n",
        "df1=abs(data20-result1)\n",
        "df1.mean().mean()\n",
        "\n",
        "sample = df20.sample(n=100, replace=True)\n",
        "sample.index = pd.to_datetime(sample['date'],format='%Y-%m-%d')\n",
        "result2=sample.groupby(sample.index.month).mean()\n",
        "df2 = pd.DataFrame()\n",
        "df2=abs(data20-result2)\n",
        "df2.mean().mean()\n",
        "\n",
        "sample = df20.sample(n=250, replace=True)\n",
        "sample.index = pd.to_datetime(sample['date'],format='%Y-%m-%d')\n",
        "result3=sample.groupby(sample.index.month).mean()\n",
        "df3 = pd.DataFrame()\n",
        "df3=abs(data20-result3)\n",
        "df3.mean().mean()\n",
        "\n",
        "sample = df20.sample(n=500, replace=True)\n",
        "sample.index = pd.to_datetime(sample['date'],format='%Y-%m-%d')\n",
        "result4=sample.groupby(sample.index.month).mean()\n",
        "df4 = pd.DataFrame()\n",
        "df4=abs(data20-result4)\n",
        "df4.mean().mean()\n",
        "\n",
        "sample = df20.sample(n=1000, replace=True)\n",
        "sample.index = pd.to_datetime(sample['date'],format='%Y-%m-%d')\n",
        "result5=sample.groupby(sample.index.month).mean()\n",
        "df5 = pd.DataFrame()\n",
        "df5=abs(data20-result5)\n",
        "df5.mean().mean()\n",
        "\n",
        "data=[df1.mean().mean() ,df2.mean().mean(),df3.mean().mean(),df4.mean().mean(),df5.mean().mean()\n",
        "]\n",
        "print(data)\n",
        "\n",
        "from matplotlib import pyplot as plt\n",
        "plt.plot(data)\n",
        "plt.show()\n",
        "\n"
      ],
      "execution_count": 22,
      "outputs": [
        {
          "output_type": "stream",
          "name": "stdout",
          "text": [
            "[10.050382104187687, 8.05537265126023, 4.813737597021613, 4.0339465545498046, 2.3895343413224843]\n"
          ]
        },
        {
          "output_type": "display_data",
          "data": {
            "image/png": "[encoded data removed]",
            "text/plain": [
              "<Figure size 432x288 with 1 Axes>"
            ]
          },
          "metadata": {
            "needs_background": "light"
          }
        }
      ]
    },
    {
      "cell_type": "code",
      "metadata": {
        "colab": {
          "base_uri": "https://localhost:8080/",
          "height": 282
        },
        "id": "rUVOPnh2EBIw",
        "outputId": "ffa2cca0-590d-4886-e113-deb0064847fe"
      },
      "source": [
        "              ########## 5.soru ##############\n",
        "df20.index = pd.to_datetime(df20['date'],format='%Y-%m-%d')\n",
        "result=df20.groupby(df20.index.month)\n",
        "sample50 = result.sample(n=50, replace=True)\n",
        "sample50.index = pd.to_datetime(sample50['date'],format='%Y-%m-%d')\n",
        "result1=sample50.groupby(sample50.index.month).mean()\n",
        "\n",
        "df20.index = pd.to_datetime(df20['date'],format='%Y-%m-%d')\n",
        "result=df20.groupby(df20.index.month)\n",
        "sample100 = result.sample(n=100, replace=True)\n",
        "sample100.index = pd.to_datetime(sample100['date'],format='%Y-%m-%d')\n",
        "result2=sample100.groupby(sample100.index.month).mean()\n",
        "\n",
        "df20.index = pd.to_datetime(df20['date'],format='%Y-%m-%d')\n",
        "result=df20.groupby(df20.index.month)\n",
        "sample250 = result.sample(n=250, replace=True)\n",
        "sample250.index = pd.to_datetime(sample250['date'],format='%Y-%m-%d')\n",
        "result3=sample250.groupby(sample250.index.month).mean()\n",
        "\n",
        "df20.index = pd.to_datetime(df20['date'],format='%Y-%m-%d')\n",
        "result=df20.groupby(df20.index.month)\n",
        "sample500 = result.sample(n=500, replace=True)\n",
        "sample500.index = pd.to_datetime(sample500['date'],format='%Y-%m-%d')\n",
        "result4=sample500.groupby(sample500.index.month).mean()\n",
        "\n",
        "df20.index = pd.to_datetime(df20['date'],format='%Y-%m-%d')\n",
        "result=df20.groupby(df20.index.month)\n",
        "sample1000 = result.sample(n=1000, replace=True)\n",
        "sample1000.index = pd.to_datetime(sample1000['date'],format='%Y-%m-%d')\n",
        "result5=sample1000.groupby(sample1000.index.month).mean()\n",
        "\n",
        "data=[result1.mean().mean() ,result2.mean().mean(),result3.mean().mean(),result4.mean().mean(),result5.mean().mean()]\n",
        "\n",
        "print(data)\n",
        "\n",
        "from matplotlib import pyplot as plt\n",
        "plt.plot(data)\n",
        "plt.show()\n"
      ],
      "execution_count": 23,
      "outputs": [
        {
          "output_type": "stream",
          "name": "stdout",
          "text": [
            "[-8.978840564533916, -6.434907914597119, -7.261833605648508, -7.611695242911501, -7.711553039755587]\n"
          ]
        },
        {
          "output_type": "display_data",
          "data": {
            "image/png": "[encoded data removed]",
            "text/plain": [
              "<Figure size 432x288 with 1 Axes>"
            ]
          },
          "metadata": {
            "needs_background": "light"
          }
        }
      ]
    },
    {
      "cell_type": "markdown",
      "metadata": {
        "id": "aFzBVzrnnpEs"
      },
      "source": [
        "### Teslim\n",
        "Her sorunun altında **hem kodu ve hemde çıktısını** içeren Jupiter notebook dökümanını **pdfe** çevirerek classroom üzerinden teslim ediniz(colab de direk print ile pdf alabilirsiniz).\n",
        "Çıktının güzel görünmesi için latex çıktı alarak oradan düzenleyebilirsiniz. Yada html aldıktan sonra print yapabilirsiniz."
      ]
    },
    {
      "cell_type": "markdown",
      "metadata": {
        "id": "AtJMMvtkCg-S"
      },
      "source": [
        "### Değerlendirme\n",
        "**Her soru 20 puandır.**"
      ]
    }
  ]
}